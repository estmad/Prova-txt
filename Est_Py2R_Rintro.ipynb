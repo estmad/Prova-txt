{
  "nbformat": 4,
  "nbformat_minor": 0,
  "metadata": {
    "colab": {
      "name": "Est Py2R - Rintro.ipynb",
      "provenance": [],
      "collapsed_sections": []
    },
    "kernelspec": {
      "name": "python3",
      "display_name": "Python 3"
    }
  },
  "cells": [
    {
      "cell_type": "markdown",
      "metadata": {
        "id": "C6o_ymZbi4gl"
      },
      "source": [
        "## R intro"
      ]
    },
    {
      "cell_type": "code",
      "metadata": {
        "colab": {
          "base_uri": "https://localhost:8080/"
        },
        "id": "_IY4Rxmxhie7",
        "outputId": "b5b23232-9031-4165-af54-b71f8b5882db"
      },
      "source": [
        "### Essential for having R run in Colab \n",
        "\n",
        "%load_ext rpy2.ipython"
      ],
      "execution_count": null,
      "outputs": [
        {
          "output_type": "stream",
          "text": [
            "The rpy2.ipython extension is already loaded. To reload it, use:\n",
            "  %reload_ext rpy2.ipython\n"
          ],
          "name": "stdout"
        }
      ]
    },
    {
      "cell_type": "markdown",
      "metadata": {
        "id": "GbSgxQyDjqd8"
      },
      "source": [
        "## How to execute R scripts"
      ]
    },
    {
      "cell_type": "code",
      "metadata": {
        "id": "n0UoR7g4jVnH",
        "colab": {
          "base_uri": "https://localhost:8080/"
        },
        "outputId": "96bfdea1-d9a6-4b30-9b6e-4d81aa646c48"
      },
      "source": [
        "%%R    # This is the line that tells Colab we are writing in R and not Python\n",
        "\n",
        "(3**2+6)/(3+2)"
      ],
      "execution_count": null,
      "outputs": [
        {
          "output_type": "stream",
          "text": [
            "[1] 3\n"
          ],
          "name": "stdout"
        }
      ]
    },
    {
      "cell_type": "code",
      "metadata": {
        "id": "RucGrwSCjPY4",
        "colab": {
          "base_uri": "https://localhost:8080/"
        },
        "outputId": "b8451b1a-1f09-4bce-d917-ad1399e1bb41"
      },
      "source": [
        "## In this case it's executing the line like a Python code (can you notice the difference?)\n",
        "\n",
        "(3**2+6)/(3+2)"
      ],
      "execution_count": null,
      "outputs": [
        {
          "output_type": "execute_result",
          "data": {
            "text/plain": [
              "2.2"
            ]
          },
          "metadata": {
            "tags": []
          },
          "execution_count": 26
        }
      ]
    },
    {
      "cell_type": "markdown",
      "metadata": {
        "id": "ykfulDCalPF_"
      },
      "source": [
        "Per altre operazioni aritmetiche vedere [qui](https://www.rdocumentation.org/packages/base/versions/3.6.2/topics/Arithmetic)."
      ]
    },
    {
      "cell_type": "markdown",
      "metadata": {
        "id": "T3F4ctIhj8sF"
      },
      "source": [
        "### Example of R code"
      ]
    },
    {
      "cell_type": "code",
      "metadata": {
        "id": "J4nEG9R7h7ci",
        "colab": {
          "base_uri": "https://localhost:8080/"
        },
        "outputId": "2f40be5d-a79d-4a30-ba21-62300e9a9678"
      },
      "source": [
        "%%R  \n",
        "\n",
        "x <- seq(0, 96)\n",
        "x"
      ],
      "execution_count": null,
      "outputs": [
        {
          "output_type": "stream",
          "text": [
            " [1]  0  1  2  3  4  5  6  7  8  9 10 11 12 13 14 15 16 17 18 19 20 21 22 23 24\n",
            "[26] 25 26 27 28 29 30 31 32 33 34 35 36 37 38 39 40 41 42 43 44 45 46 47 48 49\n",
            "[51] 50 51 52 53 54 55 56 57 58 59 60 61 62 63 64 65 66 67 68 69 70 71 72 73 74\n",
            "[76] 75 76 77 78 79 80 81 82 83 84 85 86 87 88 89 90 91 92 93 94 95 96\n"
          ],
          "name": "stdout"
        }
      ]
    },
    {
      "cell_type": "code",
      "metadata": {
        "id": "cZ9zIo-aja84",
        "colab": {
          "base_uri": "https://localhost:8080/"
        },
        "outputId": "79cb9b2b-9d55-453c-e288-d620af1f8d21"
      },
      "source": [
        "## There are soome functions that are the same\n",
        "%%R \n",
        "\n",
        "round(3.141593)\n",
        "# Let's go and have a look at the documentation. How can we find it? "
      ],
      "execution_count": null,
      "outputs": [
        {
          "output_type": "stream",
          "text": [
            "[1] 3\n"
          ],
          "name": "stdout"
        }
      ]
    },
    {
      "cell_type": "code",
      "metadata": {
        "id": "0dkjHFVRkjKx"
      },
      "source": [
        "## Se non vuoi andare a cercare su Google \n",
        "%%R\n",
        "\n",
        "help(round)"
      ],
      "execution_count": null,
      "outputs": []
    },
    {
      "cell_type": "code",
      "metadata": {
        "colab": {
          "base_uri": "https://localhost:8080/"
        },
        "id": "_RpDivlmklXq",
        "outputId": "06dc7ea4-d5a5-4e27-bec9-6d38d45412a0"
      },
      "source": [
        "%%R\n",
        "\n",
        "mean(x)"
      ],
      "execution_count": null,
      "outputs": [
        {
          "output_type": "stream",
          "text": [
            "[1] 48\n"
          ],
          "name": "stdout"
        }
      ]
    },
    {
      "cell_type": "markdown",
      "metadata": {
        "id": "q6da_7T7l0wB"
      },
      "source": [
        "## How to save values into variables"
      ]
    },
    {
      "cell_type": "code",
      "metadata": {
        "colab": {
          "base_uri": "https://localhost:8080/"
        },
        "id": "LDuGEUZElEbJ",
        "outputId": "ce08189b-1437-4ad2-d550-5901696e82e7"
      },
      "source": [
        "%%R\n",
        "\n",
        "mean.x <- mean(x)\n",
        "mean.x"
      ],
      "execution_count": null,
      "outputs": [
        {
          "output_type": "stream",
          "text": [
            "[1] 3\n"
          ],
          "name": "stdout"
        }
      ]
    },
    {
      "cell_type": "code",
      "metadata": {
        "colab": {
          "base_uri": "https://localhost:8080/"
        },
        "id": "5Ew3hhPil-55",
        "outputId": "689f18bf-6be7-4547-c595-214994f5c502"
      },
      "source": [
        "## Similar to Python lists\n",
        "%%R \n",
        "\n",
        "lista.reddito <- c(20, 56, 37, 47, 29, 32, 30)\n",
        "lista.reddito"
      ],
      "execution_count": null,
      "outputs": [
        {
          "output_type": "stream",
          "text": [
            "[1] 20 56 37 47 29 32 30\n"
          ],
          "name": "stdout"
        }
      ]
    },
    {
      "cell_type": "code",
      "metadata": {
        "id": "99hwxTOkmy7w"
      },
      "source": [
        ""
      ],
      "execution_count": null,
      "outputs": []
    }
  ]
}