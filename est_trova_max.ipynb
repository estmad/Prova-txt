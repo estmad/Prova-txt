{
  "nbformat": 4,
  "nbformat_minor": 0,
  "metadata": {
    "colab": {
      "name": "est_trova max.ipynb",
      "provenance": [],
      "collapsed_sections": []
    },
    "kernelspec": {
      "name": "python3",
      "display_name": "Python 3"
    }
  },
  "cells": [
    {
      "cell_type": "code",
      "metadata": {
        "id": "0SGmBjw-toiA",
        "colab": {
          "base_uri": "https://localhost:8080/",
          "height": 50
        },
        "outputId": "b807c4c4-6ada-4734-9245-24fd5b0d55c1"
      },
      "source": [
        "# Prendere in input il prezzo di un prodotto e scontarlo del 30%.\n",
        "\n",
        "prezzo = int(input(\"Quanto costa questo prodotto?\"))\n",
        "scontato = prezzo * 0.70\n",
        "scontato_round = round(scontato,2)\n",
        "print(\"Il prezzo scontato e \" + str(scontato_round))"
      ],
      "execution_count": null,
      "outputs": [
        {
          "output_type": "stream",
          "text": [
            "Quanto costa questo prodotto?56\n",
            "Il prezzo scontato e 39.2\n"
          ],
          "name": "stdout"
        }
      ]
    },
    {
      "cell_type": "code",
      "metadata": {
        "id": "tGzVI0rRuMP9",
        "colab": {
          "base_uri": "https://localhost:8080/",
          "height": 35
        },
        "outputId": "4bd65315-8faf-453f-b14f-cca999123a77"
      },
      "source": [
        "def sconta_prezzo(prezzo):\n",
        "  scontato = prezzo * 0.70\n",
        "  #scontato_round = round(scontato,2)\n",
        "  #return scontato_round\n",
        "  return scontato\n",
        "\n",
        "sconta_prezzo(56)\n"
      ],
      "execution_count": null,
      "outputs": [
        {
          "output_type": "execute_result",
          "data": {
            "text/plain": [
              "39.199999999999996"
            ]
          },
          "metadata": {
            "tags": []
          },
          "execution_count": 8
        }
      ]
    },
    {
      "cell_type": "code",
      "metadata": {
        "id": "1hcUNrctv63l"
      },
      "source": [
        "valore = int(input(\"Quanto costa questo prodotto?\"))\n",
        "valore_scontato = sconta_prezzo (valore)\n",
        "print(\"Il prezzo scontato e \" + str(valore_scontato))"
      ],
      "execution_count": null,
      "outputs": []
    },
    {
      "cell_type": "code",
      "metadata": {
        "id": "4Maac1spwXfZ",
        "colab": {
          "base_uri": "https://localhost:8080/",
          "height": 33
        },
        "outputId": "5d33f110-ec39-4676-b084-033a918a1c3c"
      },
      "source": [
        "def quadrato(numero):\n",
        "  quad = numero ** 2\n",
        "  return quad\n",
        "\n",
        "quadrato(9)"
      ],
      "execution_count": null,
      "outputs": [
        {
          "output_type": "execute_result",
          "data": {
            "text/plain": [
              "81"
            ]
          },
          "metadata": {
            "tags": []
          },
          "execution_count": 7
        }
      ]
    },
    {
      "cell_type": "code",
      "metadata": {
        "id": "JLavHqPnw7Nx",
        "colab": {
          "base_uri": "https://localhost:8080/",
          "height": 33
        },
        "outputId": "013082c5-6496-4428-9d8e-858792bc8642"
      },
      "source": [
        "def quadrato(b, a):\n",
        "  return b\n",
        "\n",
        "nove = 9\n",
        "quadrato(nove, 8)"
      ],
      "execution_count": null,
      "outputs": [
        {
          "output_type": "execute_result",
          "data": {
            "text/plain": [
              "9"
            ]
          },
          "metadata": {
            "tags": []
          },
          "execution_count": 13
        }
      ]
    },
    {
      "cell_type": "code",
      "metadata": {
        "id": "PkiKMqCGxAc6"
      },
      "source": [
        ""
      ],
      "execution_count": null,
      "outputs": []
    },
    {
      "cell_type": "code",
      "metadata": {
        "id": "q6-rwhtjr2Er",
        "colab": {
          "base_uri": "https://localhost:8080/",
          "height": 54
        },
        "outputId": "34393212-1cd2-48b7-8352-1aec4cec6817"
      },
      "source": [
        "if __name__ == '__main__':\n",
        "    n = int(input().strip())\n",
        "\n",
        "if n % 2 == 1:\n",
        "    print(\"Weird\")\n",
        "elif n > 1 and n < 6:\n",
        "    print(\"Not Weird\")\n",
        "elif n > 5 and n < 21:\n",
        "    print(\"Weird\")\n",
        "else:\n",
        "    print(\"Not Weird\")\n",
        "\n",
        "\n",
        "  "
      ],
      "execution_count": null,
      "outputs": [
        {
          "output_type": "stream",
          "text": [
            "34\n",
            "Not Weird\n"
          ],
          "name": "stdout"
        }
      ]
    },
    {
      "cell_type": "code",
      "metadata": {
        "id": "XMWnsX9QJ9dT",
        "colab": {
          "base_uri": "https://localhost:8080/",
          "height": 353
        },
        "outputId": "c3a7894b-bd19-41dd-8fba-8764e05b1a48"
      },
      "source": [
        "def dis_pari (numero):\n",
        "  numero = input(\"scrive un numero \")\n",
        "  if numero % 2 == 0:\n",
        "    print(\"pari\")\n",
        "  else:\n",
        "    print(\"dispari\")\n",
        "  return numero\n",
        "\n",
        "dis_pari(numero)"
      ],
      "execution_count": null,
      "outputs": [
        {
          "output_type": "stream",
          "text": [
            "scrive un numero 23\n"
          ],
          "name": "stdout"
        },
        {
          "output_type": "error",
          "ename": "TypeError",
          "evalue": "ignored",
          "traceback": [
            "\u001b[0;31m---------------------------------------------------------------------------\u001b[0m",
            "\u001b[0;31mTypeError\u001b[0m                                 Traceback (most recent call last)",
            "\u001b[0;32m<ipython-input-30-6a5a38454776>\u001b[0m in \u001b[0;36m<module>\u001b[0;34m()\u001b[0m\n\u001b[1;32m      7\u001b[0m   \u001b[0;32mreturn\u001b[0m \u001b[0mnumero\u001b[0m\u001b[0;34m\u001b[0m\u001b[0;34m\u001b[0m\u001b[0m\n\u001b[1;32m      8\u001b[0m \u001b[0;34m\u001b[0m\u001b[0m\n\u001b[0;32m----> 9\u001b[0;31m \u001b[0mdis_pari\u001b[0m\u001b[0;34m(\u001b[0m\u001b[0mnumero\u001b[0m\u001b[0;34m)\u001b[0m\u001b[0;34m\u001b[0m\u001b[0;34m\u001b[0m\u001b[0m\n\u001b[0m",
            "\u001b[0;32m<ipython-input-30-6a5a38454776>\u001b[0m in \u001b[0;36mdis_pari\u001b[0;34m(numero)\u001b[0m\n\u001b[1;32m      1\u001b[0m \u001b[0;32mdef\u001b[0m \u001b[0mdis_pari\u001b[0m \u001b[0;34m(\u001b[0m\u001b[0mnumero\u001b[0m\u001b[0;34m)\u001b[0m\u001b[0;34m:\u001b[0m\u001b[0;34m\u001b[0m\u001b[0;34m\u001b[0m\u001b[0m\n\u001b[1;32m      2\u001b[0m   \u001b[0mnumero\u001b[0m \u001b[0;34m=\u001b[0m \u001b[0minput\u001b[0m\u001b[0;34m(\u001b[0m\u001b[0;34m\"scrive un numero \"\u001b[0m\u001b[0;34m)\u001b[0m\u001b[0;34m\u001b[0m\u001b[0;34m\u001b[0m\u001b[0m\n\u001b[0;32m----> 3\u001b[0;31m   \u001b[0;32mif\u001b[0m \u001b[0mnumero\u001b[0m \u001b[0;34m%\u001b[0m \u001b[0;36m2\u001b[0m \u001b[0;34m==\u001b[0m \u001b[0;36m0\u001b[0m\u001b[0;34m:\u001b[0m\u001b[0;34m\u001b[0m\u001b[0;34m\u001b[0m\u001b[0m\n\u001b[0m\u001b[1;32m      4\u001b[0m     \u001b[0mprint\u001b[0m\u001b[0;34m(\u001b[0m\u001b[0;34m\"pari\"\u001b[0m\u001b[0;34m)\u001b[0m\u001b[0;34m\u001b[0m\u001b[0;34m\u001b[0m\u001b[0m\n\u001b[1;32m      5\u001b[0m   \u001b[0;32melse\u001b[0m\u001b[0;34m:\u001b[0m\u001b[0;34m\u001b[0m\u001b[0;34m\u001b[0m\u001b[0m\n",
            "\u001b[0;31mTypeError\u001b[0m: not all arguments converted during string formatting"
          ]
        }
      ]
    },
    {
      "cell_type": "code",
      "metadata": {
        "id": "8SDZfvYuLZGl",
        "colab": {
          "base_uri": "https://localhost:8080/",
          "height": 54
        },
        "outputId": "3aca563c-896e-461e-f1a9-f7f6c0128db1"
      },
      "source": [
        "numero = input(\"scrive un numero \")\n",
        "numero_int = int(numero)\n",
        "if numero_int % 2 == 1:\n",
        "    print(\"dispari\")\n",
        "else:\n",
        "    print(\"pari\")\n",
        "    #print (numero)"
      ],
      "execution_count": null,
      "outputs": [
        {
          "output_type": "stream",
          "text": [
            "scrive un numero 89\n",
            "dispari\n"
          ],
          "name": "stdout"
        }
      ]
    },
    {
      "cell_type": "code",
      "metadata": {
        "id": "xt5LqhbZUcMs",
        "colab": {
          "base_uri": "https://localhost:8080/",
          "height": 72
        },
        "outputId": "c7877c13-3aea-47fc-dd06-98988ba00081"
      },
      "source": [
        "def dis_pari(numero):\n",
        "  numero = input(\"scrive un numero \")\n",
        "  numero_int = int(numero)\n",
        "  if numero_int % 2 == 1:\n",
        "      print(\"dispari\")\n",
        "  else:\n",
        "      print(\"pari\")\n",
        "  return numero\n",
        "\n",
        "dis_pari(numero)"
      ],
      "execution_count": null,
      "outputs": [
        {
          "output_type": "stream",
          "text": [
            "scrive un numero 5\n",
            "dispari\n"
          ],
          "name": "stdout"
        },
        {
          "output_type": "execute_result",
          "data": {
            "application/vnd.google.colaboratory.intrinsic+json": {
              "type": "string"
            },
            "text/plain": [
              "'5'"
            ]
          },
          "metadata": {
            "tags": []
          },
          "execution_count": 48
        }
      ]
    },
    {
      "cell_type": "markdown",
      "metadata": {
        "id": "A6rLcX6hXMJ4"
      },
      "source": [
        "## Esercizi\n",
        "\n",
        "1 - riscrivere tutti gli esercizi precedenti con funzioni dove possibile. Dare due nomi diversi alla variabili input e output della funzione e le variabili del programma.\n",
        "\n",
        "2 - andare a vedere nel programma \"prepararsi/apparecchiare\" quali sono i gruppi di azioni ricorrenti. Si possono creare funzioni per questi gruppi? "
      ]
    },
    {
      "cell_type": "code",
      "metadata": {
        "id": "V56FikSvXNbo"
      },
      "source": [
        "## Scrivere una funzione che trova il massimo dati 3 valori. Deve valere per tutte e tre le chiamate di funzione\n",
        "\n",
        "  # scrivi qui la funzione\n",
        "def trova_max(maximo)\n",
        "  \n",
        "#print(find_max(2,5,7))\n",
        "#print(find_max(9,5,4))\n",
        "#print(find_max(8,20,5))"
      ],
      "execution_count": null,
      "outputs": []
    },
    {
      "cell_type": "code",
      "metadata": {
        "id": "mENZcnfBAYiO"
      },
      "source": [
        ""
      ],
      "execution_count": null,
      "outputs": []
    },
    {
      "cell_type": "code",
      "metadata": {
        "id": "0jgHhvhFYQQA"
      },
      "source": [
        "## Scrivere una funzione che inverte la stringa e rimanda una stringa con la stringa una volta dritta e una al contrario (guarda l'esempio)\n",
        "def fun_woth_strings\n",
        "  # scrivi qui la funzione\n",
        "\n",
        "print(fun_with_strings('ciao'))   # risultato: 'ciaooaic'\n",
        "print(fun_with_strings('Cristina')) # risultato 'CristinaanitsirC'"
      ],
      "execution_count": null,
      "outputs": []
    },
    {
      "cell_type": "code",
      "metadata": {
        "id": "nKt3_OOdAZPB",
        "colab": {
          "base_uri": "https://localhost:8080/",
          "height": 72
        },
        "outputId": "8f4e6112-1b61-4584-cf15-9e81526e4f41"
      },
      "source": [
        "def inv_palabra (palabra):\n",
        "  palabra = input(\"escribe cualquier palabra: \")\n",
        "  plbr_invrtd = palabra[::-1] + palabra\n",
        "  print(plbr_invrtd) \n",
        "  return plbr_invrtd\n",
        "\n",
        "inv_palabra(palabra)\n",
        "\n",
        "\n",
        "\n",
        "\n"
      ],
      "execution_count": null,
      "outputs": [
        {
          "output_type": "stream",
          "text": [
            "escribe cualquier palabra: claro\n",
            "oralcclaro\n"
          ],
          "name": "stdout"
        },
        {
          "output_type": "execute_result",
          "data": {
            "application/vnd.google.colaboratory.intrinsic+json": {
              "type": "string"
            },
            "text/plain": [
              "'oralcclaro'"
            ]
          },
          "metadata": {
            "tags": []
          },
          "execution_count": 15
        }
      ]
    },
    {
      "cell_type": "code",
      "metadata": {
        "id": "xFHw6b_IJHjJ"
      },
      "source": [
        ""
      ],
      "execution_count": null,
      "outputs": []
    },
    {
      "cell_type": "code",
      "metadata": {
        "id": "maDZVWV-JBRP",
        "colab": {
          "base_uri": "https://localhost:8080/",
          "height": 54
        },
        "outputId": "0a3c037f-eb18-4088-f575-a11f30ea55fa"
      },
      "source": [
        "palabra = input(\"escribe cualquier palabra: \")\n",
        "plbr_invrtd = palabra[::-1] + palabra\n",
        "print(plbr_invrtd) "
      ],
      "execution_count": null,
      "outputs": [
        {
          "output_type": "stream",
          "text": [
            "escribe cualquier palabra: mango\n",
            "ognammango\n"
          ],
          "name": "stdout"
        }
      ]
    },
    {
      "cell_type": "code",
      "metadata": {
        "id": "8mwXqTxgC2ln",
        "colab": {
          "base_uri": "https://localhost:8080/",
          "height": 54
        },
        "outputId": "361ce2b0-7f90-4147-d056-383f35dace75"
      },
      "source": [
        "def invertitore_nombre (nombre):\n",
        "  nombre = input(\"qual è il tuo nome?\")\n",
        "  nombre_invertito = nombre [::-1] + nombre\n",
        "  return nombre_invertito\n",
        "\n",
        "invertitore_nombre(nombre)"
      ],
      "execution_count": null,
      "outputs": [
        {
          "output_type": "stream",
          "text": [
            "qual è il tuo nome?susan\n"
          ],
          "name": "stdout"
        },
        {
          "output_type": "execute_result",
          "data": {
            "application/vnd.google.colaboratory.intrinsic+json": {
              "type": "string"
            },
            "text/plain": [
              "'nasussusan'"
            ]
          },
          "metadata": {
            "tags": []
          },
          "execution_count": 64
        }
      ]
    },
    {
      "cell_type": "code",
      "metadata": {
        "id": "DHua5jPAEipf",
        "colab": {
          "base_uri": "https://localhost:8080/",
          "height": 54
        },
        "outputId": "8403c260-5c99-401f-c1ec-be6b081c205b"
      },
      "source": [
        "def inversor (letras):\n",
        "  letras = input(\"scrive qui quello che vuoi\")\n",
        "  nombre_invertito = letras [::-1] + letras\n",
        "#print(nombre_invertito)  \n",
        "  return nombre_invertito\n",
        "\n",
        "inversor(letras)"
      ],
      "execution_count": null,
      "outputs": [
        {
          "output_type": "stream",
          "text": [
            "scrive qui quello che vuoiquieroescribir\n"
          ],
          "name": "stdout"
        },
        {
          "output_type": "execute_result",
          "data": {
            "application/vnd.google.colaboratory.intrinsic+json": {
              "type": "string"
            },
            "text/plain": [
              "'ribircseoreiuqquieroescribir'"
            ]
          },
          "metadata": {
            "tags": []
          },
          "execution_count": 115
        }
      ]
    },
    {
      "cell_type": "code",
      "metadata": {
        "id": "8Rdad9aNLZNU"
      },
      "source": [
        ""
      ],
      "execution_count": null,
      "outputs": []
    },
    {
      "cell_type": "markdown",
      "metadata": {
        "id": "RmcK7G95Y-Gk"
      },
      "source": [
        "# Additional resources:\n",
        "\n",
        "Se avete tempo cominciate anche questo (gratuito ma dovete aprire account):\n",
        "\n",
        "https://learn.datacamp.com/courses/intro-to-python-for-data-science\n",
        "\n",
        "Non abbiamo fatto tutto, è ok farne solo un po'. E' anche ok non farlo proprio, tanto rivediamo tutti i concetti. Considerate però che più ripetete e prima imparate."
      ]
    },
    {
      "cell_type": "code",
      "metadata": {
        "id": "R9lg1ggAo93N"
      },
      "source": [
        ""
      ],
      "execution_count": null,
      "outputs": []
    }
  ]
}