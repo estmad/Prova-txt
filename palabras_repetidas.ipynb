{
  "nbformat": 4,
  "nbformat_minor": 0,
  "metadata": {
    "colab": {
      "name": "palabras repetidas.ipynb",
      "provenance": []
    },
    "kernelspec": {
      "name": "python3",
      "display_name": "Python 3"
    }
  },
  "cells": [
    {
      "cell_type": "code",
      "metadata": {
        "colab": {
          "base_uri": "https://localhost:8080/"
        },
        "id": "In3RaP9PBGgU",
        "outputId": "0c329ad0-d828-4028-d929-cfe066d1d271"
      },
      "source": [
        "texto = \"\"\"a buscar un editor. Conozco bastante bien el alma humana para prever que\r\n",
        "pensarán en la vanidad. Piensen lo que quieran: me importa un bledo; hace rato que\r\n",
        "me importan un bledo la opinión y la justicia de los hombres. Supongan, pues, que\r\n",
        "publico esta historia por vanidad. Al fin de cuentas estoy hecho de carne, huesos,\r\n",
        "pelo y uñas como cualquier otro hombre y me parecería muy injusto que exigiesen\r\n",
        "de mí, precisamente de mí, cualidades especiales; uno se cree a veces un\r\n",
        "superhombre, hasta que advierte que también es mezquino, sucio y pérfido. De la\r\n",
        "vanidad no digo nada: creo que nadie está desprovisto de este notable motor del\r\n",
        "Progreso Humano. Me hacen reír esos señores que salen con la modestia de\r\n",
        "Einstein o gente por el estilo; respuesta: es fácil ser modesto cuando se es célebre;\r\n",
        "quiero decir parecer modesto. Aun cuando se imagina que no existe en absoluto, se\r\n",
        "la descubre de pronto en su forma más sutil: la vanidad de la modestia. ¡Cuántas\r\n",
        "veces tropezamos con esa clase de individuos! Hasta un hombre, real o simbólico,\r\n",
        "como Cristo, pronunció palabras sugeridas por la vanidad o al menos por la\r\n",
        "soberbia. ¿Qué decir de León Bloy, que se defendía de la acusación de sober\"\"\"\r\n",
        "\r\n",
        "texto_ls = texto.split()\r\n",
        "lista_palabras = []\r\n",
        "for palabra in texto_ls:\r\n",
        "  if len(palabra) > 3:\r\n",
        "    lista_palabras += [palabra]\r\n",
        "lista_repetidas = []\r\n",
        "for palabra in lista_palabras:\r\n",
        "  palabra[0:4] == palabra[0:4]:\r\n",
        "  if \"est\" in palabra:\r\n",
        "    lista_repetidas += [palabra]\r\n",
        "print(lista_repetidas)\r\n",
        "print(lista_palabras)"
      ],
      "execution_count": null,
      "outputs": [
        {
          "output_type": "stream",
          "text": [
            "['esta', 'estoy', 'está', 'este', 'modestia', 'estilo;', 'respuesta:', 'modesto', 'modesto.', 'modestia.']\n",
            "['buscar', 'editor.', 'Conozco', 'bastante', 'bien', 'alma', 'humana', 'para', 'prever', 'pensarán', 'vanidad.', 'Piensen', 'quieran:', 'importa', 'bledo;', 'hace', 'rato', 'importan', 'bledo', 'opinión', 'justicia', 'hombres.', 'Supongan,', 'pues,', 'publico', 'esta', 'historia', 'vanidad.', 'cuentas', 'estoy', 'hecho', 'carne,', 'huesos,', 'pelo', 'uñas', 'como', 'cualquier', 'otro', 'hombre', 'parecería', 'injusto', 'exigiesen', 'precisamente', 'cualidades', 'especiales;', 'cree', 'veces', 'superhombre,', 'hasta', 'advierte', 'también', 'mezquino,', 'sucio', 'pérfido.', 'vanidad', 'digo', 'nada:', 'creo', 'nadie', 'está', 'desprovisto', 'este', 'notable', 'motor', 'Progreso', 'Humano.', 'hacen', 'reír', 'esos', 'señores', 'salen', 'modestia', 'Einstein', 'gente', 'estilo;', 'respuesta:', 'fácil', 'modesto', 'cuando', 'célebre;', 'quiero', 'decir', 'parecer', 'modesto.', 'cuando', 'imagina', 'existe', 'absoluto,', 'descubre', 'pronto', 'forma', 'sutil:', 'vanidad', 'modestia.', '¡Cuántas', 'veces', 'tropezamos', 'clase', 'individuos!', 'Hasta', 'hombre,', 'real', 'simbólico,', 'como', 'Cristo,', 'pronunció', 'palabras', 'sugeridas', 'vanidad', 'menos', 'soberbia.', '¿Qué', 'decir', 'León', 'Bloy,', 'defendía', 'acusación', 'sober']\n"
          ],
          "name": "stdout"
        }
      ]
    }
  ]
}
#verificar
